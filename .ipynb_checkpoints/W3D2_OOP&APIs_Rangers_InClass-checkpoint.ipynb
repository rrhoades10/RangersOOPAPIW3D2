{
 "cells": [
  {
   "cell_type": "markdown",
   "metadata": {},
   "source": [
    "# Object Oriented Programming 2 - examples and APIs\n"
   ]
  },
  {
   "cell_type": "markdown",
   "metadata": {},
   "source": [
    "## Tasks Today:\n",
    "\n",
    "   \n",
    "\n",
    "1) <b>Restful APIs & HTTP Requests </b> <br>\n",
    " &nbsp;&nbsp;&nbsp;&nbsp; a) What are APIs <br>\n",
    "  &nbsp;&nbsp;&nbsp;&nbsp; b) What does HTTP stand for, request methods, status codes <br>\n",
    " &nbsp;&nbsp;&nbsp;&nbsp; c) Making API requests and retrieving/jsonifying data <br>\n",
    " &nbsp;&nbsp;&nbsp;&nbsp; d) Using APIs requests within functions & classes <br>\n",
    " 2) <b>Working with the Pokemon API </b> <br>\n",
    " &nbsp;&nbsp;&nbsp;&nbsp; a) Making Requests to the Pokemon API<br>\n",
    "  &nbsp;&nbsp;&nbsp;&nbsp; b) Creating a function to make API Requests <br>\n",
    " &nbsp;&nbsp;&nbsp;&nbsp; c) Creating a Pokemon class and instantiating Pokemon objects<br>\n",
    " &nbsp;&nbsp;&nbsp;&nbsp; d) Create an Evolver class that inherits from Pokemon class <br>\n",
    " "
   ]
  },
  {
   "cell_type": "markdown",
   "metadata": {},
   "source": [
    "# working with APis"
   ]
  },
  {
   "cell_type": "markdown",
   "metadata": {},
   "source": [
    "<p> What exactly is an API? <br> <br>\n",
    "API is the acronym for Application Programming Interface, which is a software intermediary that allows two applications to talk to each other. Each time you use an app like Facebook, send an instant message, or check the weather on your phone, you're using an API. </p>"
   ]
  },
  {
   "cell_type": "markdown",
   "metadata": {},
   "source": [
    "### The Poke API  allows you to retreive a pokemon's information from PokeAPI https://pokeapi.co/\n",
    "\n"
   ]
  },
  {
   "cell_type": "code",
   "execution_count": 11,
   "metadata": {},
   "outputs": [
    {
     "name": "stdout",
     "output_type": "stream",
     "text": [
      "dict_keys(['abilities', 'base_experience', 'forms', 'game_indices', 'height', 'held_items', 'id', 'is_default', 'location_area_encounters', 'moves', 'name', 'order', 'past_abilities', 'past_types', 'species', 'sprites', 'stats', 'types', 'weight'])\n",
      "charmander\n",
      "85\n",
      "blaze\n",
      "fire\n",
      "blaze\n"
     ]
    }
   ],
   "source": [
    "# making an API call\n",
    "import requests\n",
    "\n",
    "r = requests.get(\"https://pokeapi.co/api/v2/pokemon/charmander\")\n",
    "if r.status_code == 200:\n",
    "    data = r.json()\n",
    "print(data.keys())\n",
    "# keys we're working with are:\n",
    "# abilities, name, types, weight\n",
    "\n",
    "\n",
    "\n",
    "poke_dict = {\n",
    "    'abilities': [\n",
    "        {\n",
    "            'ability': {\n",
    "                'name': \"blaze\",\n",
    "                'url': \"https://pokeapi.co/api/v2/ability/66/\"\n",
    "            }\n",
    "        },\n",
    "         {\n",
    "             'ability': {\n",
    "                'name': \"solar-power\",\n",
    "                'url': \"https://pokeapi.co/api/v2/ability/94/\"\n",
    "             }\n",
    "        }      \n",
    "    ],\n",
    "    'name': 'charmander',\n",
    "    'weight': 85,\n",
    "    'types': [\n",
    "        {\n",
    "            'type': {\n",
    "                'name': 'fire',\n",
    "                'url': 'https://pokeapi.co/api/v2/type/10/'\n",
    "            }\n",
    "        }\n",
    "    ]\n",
    "        \n",
    "    \n",
    "}\n",
    "\n",
    "print(poke_dict['name'])\n",
    "print(poke_dict['weight'])\n",
    "print(poke_dict['abilities'][0]['ability']['name'])\n",
    "print(poke_dict['types'][0]['type']['name'])\n",
    "# abilities[0].ability\n",
    "print(data['abilities'][0]['ability']['name'])\n"
   ]
  },
  {
   "cell_type": "markdown",
   "metadata": {},
   "source": [
    "### Display a Pokemon's name, weight, abilities, and types"
   ]
  },
  {
   "cell_type": "code",
   "execution_count": 13,
   "metadata": {},
   "outputs": [
    {
     "name": "stdout",
     "output_type": "stream",
     "text": [
      "charmander\n"
     ]
    }
   ],
   "source": [
    "r = requests.get(\"https://pokeapi.co/api/v2/pokemon/charmander\")\n",
    "if r.status_code == 200:\n",
    "    data = r.json()\n",
    "# print(data.keys())\n",
    "\n",
    "# get the pokemon name\n",
    "name = data['name'] #data is now our dictionary with all the pokemon information\n",
    "print(name)"
   ]
  },
  {
   "cell_type": "code",
   "execution_count": 15,
   "metadata": {},
   "outputs": [
    {
     "name": "stdout",
     "output_type": "stream",
     "text": [
      "[{'slot': 1, 'type': {'name': 'fire', 'url': 'https://pokeapi.co/api/v2/type/10/'}}]\n",
      "['fire']\n"
     ]
    }
   ],
   "source": [
    "#get types\n",
    "print(data['types'])\n",
    "types = [type_['type']['name'] for type_ in data['types']]\n",
    "print(types)"
   ]
  },
  {
   "cell_type": "code",
   "execution_count": 16,
   "metadata": {},
   "outputs": [
    {
     "name": "stdout",
     "output_type": "stream",
     "text": [
      "85\n"
     ]
    }
   ],
   "source": [
    "# get pokemon weight\n",
    "weight = data['weight']\n",
    "print(weight)"
   ]
  },
  {
   "cell_type": "code",
   "execution_count": 19,
   "metadata": {},
   "outputs": [
    {
     "name": "stdout",
     "output_type": "stream",
     "text": [
      "[{'ability': {'name': 'blaze', 'url': 'https://pokeapi.co/api/v2/ability/66/'}, 'is_hidden': False, 'slot': 1}, {'ability': {'name': 'solar-power', 'url': 'https://pokeapi.co/api/v2/ability/94/'}, 'is_hidden': True, 'slot': 3}]\n",
      "['blaze', 'solar-power']\n"
     ]
    }
   ],
   "source": [
    "# get pokemon abilities\n",
    "print(data['abilities'])\n",
    "\n",
    "abilities = [pokebility['ability']['name'] for pokebility in data['abilities']]\n",
    "\n",
    "print(abilities)"
   ]
  },
  {
   "cell_type": "markdown",
   "metadata": {},
   "source": [
    "#### Create a function to Pull in your own Pokemon's data "
   ]
  },
  {
   "cell_type": "code",
   "execution_count": 33,
   "metadata": {},
   "outputs": [],
   "source": [
    "def poke_api_call(pokemon):\n",
    "    r = requests.get(f\"https://pokeapi.co/api/v2/pokemon/{pokemon}\")\n",
    "    print(r.status_code)\n",
    "    if r.status_code == 200:\n",
    "        data = r.json()\n",
    "    \n",
    "        \n",
    "        name = data['name']\n",
    "        types = [type_['type']['name'] for type_ in data['types']]\n",
    "        abilities = [pokebility['ability']['name'] for pokebility in data['abilities']]\n",
    "        weight = data['weight']\n",
    "        \n",
    "        poke = {\n",
    "            \"name\": name,\n",
    "            \"types\": types,\n",
    "            \"abilities\": abilities,\n",
    "            \"weight\": weight\n",
    "            \n",
    "        }\n",
    "        \n",
    "        return poke\n"
   ]
  },
  {
   "cell_type": "code",
   "execution_count": 34,
   "metadata": {},
   "outputs": [
    {
     "name": "stdout",
     "output_type": "stream",
     "text": [
      "200\n",
      "{'name': 'squirtle', 'types': ['water'], 'abilities': ['torrent', 'rain-dish'], 'weight': 90}\n"
     ]
    }
   ],
   "source": [
    "print(poke_api_call(\"squirtle\"))"
   ]
  },
  {
   "cell_type": "code",
   "execution_count": 35,
   "metadata": {},
   "outputs": [
    {
     "name": "stdout",
     "output_type": "stream",
     "text": [
      "200\n"
     ]
    },
    {
     "data": {
      "text/plain": [
       "{'name': 'heracross',\n",
       " 'types': ['bug', 'fighting'],\n",
       " 'abilities': ['swarm', 'guts', 'moxie'],\n",
       " 'weight': 540}"
      ]
     },
     "execution_count": 35,
     "metadata": {},
     "output_type": "execute_result"
    }
   ],
   "source": [
    "poke_api_call(\"heracross\")"
   ]
  },
  {
   "cell_type": "code",
   "execution_count": 36,
   "metadata": {},
   "outputs": [
    {
     "name": "stdout",
     "output_type": "stream",
     "text": [
      "200\n"
     ]
    },
    {
     "data": {
      "text/plain": [
       "{'name': 'pichu',\n",
       " 'types': ['electric'],\n",
       " 'abilities': ['static', 'lightning-rod'],\n",
       " 'weight': 20}"
      ]
     },
     "execution_count": 36,
     "metadata": {},
     "output_type": "execute_result"
    }
   ],
   "source": [
    "poke_api_call(\"pichu\")"
   ]
  },
  {
   "cell_type": "markdown",
   "metadata": {},
   "source": [
    "Choose your pokemon"
   ]
  },
  {
   "cell_type": "code",
   "execution_count": 39,
   "metadata": {},
   "outputs": [],
   "source": [
    "def poke_api_call(pokemon):\n",
    "    r = requests.get(f\"https://pokeapi.co/api/v2/pokemon/{pokemon}\")\n",
    "    \n",
    "    if r.status_code == 200:\n",
    "        data = r.json()\n",
    "    \n",
    "        \n",
    "        name = data['name']\n",
    "        types = [type_['type']['name'] for type_ in data['types']]\n",
    "        abilities = [pokebility['ability']['name'] for pokebility in data['abilities']]\n",
    "        weight = data['weight']\n",
    "        \n",
    "        poke = {\n",
    "            \"name\": name,\n",
    "            \"types\": types,\n",
    "            \"abilities\": abilities,\n",
    "            \"weight\": weight\n",
    "            \n",
    "        }\n",
    "        \n",
    "        return poke\n"
   ]
  },
  {
   "cell_type": "markdown",
   "metadata": {},
   "source": [
    "#### Use your function to create a dictionary of your favorite 6 pokemon"
   ]
  },
  {
   "cell_type": "code",
   "execution_count": 40,
   "metadata": {},
   "outputs": [
    {
     "name": "stdout",
     "output_type": "stream",
     "text": [
      "{'Heracross': {'name': 'heracross', 'types': ['bug', 'fighting'], 'abilities': ['swarm', 'guts', 'moxie'], 'weight': 540}, 'Vaporeon': {'name': 'vaporeon', 'types': ['water'], 'abilities': ['water-absorb', 'hydration'], 'weight': 290}, 'Flygon': {'name': 'flygon', 'types': ['ground', 'dragon'], 'abilities': ['levitate'], 'weight': 820}, 'Charizard': {'name': 'charizard', 'types': ['fire', 'flying'], 'abilities': ['blaze', 'solar-power'], 'weight': 905}, 'Pidgeot': {'name': 'pidgeot', 'types': ['normal', 'flying'], 'abilities': ['keen-eye', 'tangled-feet', 'big-pecks'], 'weight': 395}, 'Crobat': {'name': 'crobat', 'types': ['poison', 'flying'], 'abilities': ['inner-focus', 'infiltrator'], 'weight': 750}}\n"
     ]
    }
   ],
   "source": [
    "# Place all 6 of your pokemon on the object below, each pokemon should have at least as much info as Pikachu did.\n",
    "party = ['heracross', 'vaporeon', 'flygon', 'charizard', 'pidgeot', 'crobat']\n",
    "my_six_pokemon = {}\n",
    "for pokemon in party:\n",
    "    poke_stats = poke_api_call(pokemon)\n",
    "    my_six_pokemon[pokemon.title()] = poke_stats\n",
    "\n",
    "print(my_six_pokemon)"
   ]
  },
  {
   "cell_type": "markdown",
   "metadata": {},
   "source": [
    "## Lets create a class called 'Pokemon' and create our pokemon as instances"
   ]
  },
  {
   "cell_type": "code",
   "execution_count": null,
   "metadata": {},
   "outputs": [],
   "source": []
  },
  {
   "cell_type": "markdown",
   "metadata": {},
   "source": [
    "### Let's Catch some Pokemon"
   ]
  },
  {
   "cell_type": "markdown",
   "metadata": {},
   "source": [
    "## Exercise 1:"
   ]
  },
  {
   "cell_type": "markdown",
   "metadata": {},
   "source": [
    "### Create a Method prints an image of your pokemon\n",
    "\n",
    "<p>HINT: You may need another attribute as well to store your image url within. </p>"
   ]
  },
  {
   "cell_type": "code",
   "execution_count": null,
   "metadata": {},
   "outputs": [],
   "source": [
    "# Display an image in Jupyter notebook\n",
    "from IPython.display import Image\n",
    "\n",
    "display(Image( 'https://i.redd.it/45n4mhusa8l41.jpg', width = 300))\n"
   ]
  },
  {
   "cell_type": "code",
   "execution_count": null,
   "metadata": {},
   "outputs": [],
   "source": [
    "# recreate your pokemon class here\n",
    "\n",
    "        \n",
    "    "
   ]
  },
  {
   "cell_type": "markdown",
   "metadata": {},
   "source": [
    "## Exercise 2:"
   ]
  },
  {
   "cell_type": "markdown",
   "metadata": {},
   "source": [
    "### Create a Method that evolves your Pokemon\n",
    "If your pokemon can't evolve any further print a message that says \"\\<name of pokemon> can't evolve.\""
   ]
  },
  {
   "cell_type": "markdown",
   "metadata": {},
   "source": [
    "Now let's evolve a few"
   ]
  },
  {
   "cell_type": "code",
   "execution_count": null,
   "metadata": {
    "scrolled": true
   },
   "outputs": [],
   "source": [
    "import requests\n",
    "# recreate your pokemon class here\n"
   ]
  },
  {
   "cell_type": "code",
   "execution_count": null,
   "metadata": {},
   "outputs": [],
   "source": [
    "## Evolver class should inherit pokemon class\n"
   ]
  },
  {
   "cell_type": "markdown",
   "metadata": {},
   "source": [
    "#  Final Exercise: <br> <br>Create a Move_Tutor Class that in herits from the Pokemon parent class.\n",
    "\n",
    "<p>This class should have a list attribute (move_list) that holds pokemon moves which should be populated with an api call to the PokeApi moves section  (just like we did with abilities and types in the Pokemon class example). Finally create a class method that teaches your pokemon up to 4 moves. This method should take in a user input to what move they would like to teach and do a membership inside the move_list. If the move exists inside the move_list the pokemon can learn that move and append to the final taught_moves list. </p> \n",
    "\n"
   ]
  },
  {
   "cell_type": "code",
   "execution_count": null,
   "metadata": {},
   "outputs": [],
   "source": [
    "class Move_Tutor(Pokemon):\n",
    "    def __init__(self):\n",
    "        self.move_list = []\n",
    "        self.taught_moves = []\n",
    "        \n",
    "    def teach_move(self):\n",
    "        pass"
   ]
  },
  {
   "cell_type": "code",
   "execution_count": null,
   "metadata": {},
   "outputs": [],
   "source": []
  },
  {
   "cell_type": "code",
   "execution_count": null,
   "metadata": {},
   "outputs": [],
   "source": [
    "pikachu.teach_move()\n"
   ]
  },
  {
   "cell_type": "code",
   "execution_count": null,
   "metadata": {},
   "outputs": [],
   "source": [
    "pikachu.show_moves()"
   ]
  }
 ],
 "metadata": {
  "kernelspec": {
   "display_name": "Python 3 (ipykernel)",
   "language": "python",
   "name": "python3"
  },
  "language_info": {
   "codemirror_mode": {
    "name": "ipython",
    "version": 3
   },
   "file_extension": ".py",
   "mimetype": "text/x-python",
   "name": "python",
   "nbconvert_exporter": "python",
   "pygments_lexer": "ipython3",
   "version": "3.9.4"
  }
 },
 "nbformat": 4,
 "nbformat_minor": 4
}
